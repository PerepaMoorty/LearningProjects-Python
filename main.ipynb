{
 "cells": [
  {
   "cell_type": "code",
   "execution_count": null,
   "metadata": {},
   "outputs": [],
   "source": [
    "import string\n",
    "import random\n",
    "\n",
    "maxLimit = 10000000000 # int(input(\"Enter the length of the Password: \"))\n",
    "AVAILABLE_CHARACTERS = string.ascii_lowercase + string.ascii_uppercase + string.digits + \".&$@!\"\n",
    "\n",
    "generatedPassword = \"\"\n",
    "for i in range(maxLimit + 1): generatedPassword += random.choice(AVAILABLE_CHARACTERS)    \n",
    "\n",
    "print(\"The generated password is: \" + generatedPassword + \"\\n\")"
   ]
  }
 ],
 "metadata": {
  "kernelspec": {
   "display_name": "Python 3",
   "language": "python",
   "name": "python3"
  },
  "language_info": {
   "codemirror_mode": {
    "name": "ipython",
    "version": 3
   },
   "file_extension": ".py",
   "mimetype": "text/x-python",
   "name": "python",
   "nbconvert_exporter": "python",
   "pygments_lexer": "ipython3",
   "version": "3.12.7"
  }
 },
 "nbformat": 4,
 "nbformat_minor": 2
}
